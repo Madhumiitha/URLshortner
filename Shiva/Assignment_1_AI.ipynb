{
  "nbformat": 4,
  "nbformat_minor": 0,
  "metadata": {
    "colab": {
      "provenance": []
    },
    "kernelspec": {
      "name": "python3",
      "display_name": "Python 3"
    },
    "language_info": {
      "name": "python"
    }
  },
  "cells": [
    {
      "cell_type": "code",
      "execution_count": 1,
      "metadata": {
        "colab": {
          "base_uri": "https://localhost:8080/"
        },
        "id": "nEhZMPvbmnFR",
        "outputId": "d63b5520-351e-4b34-e47d-eb4341a43def"
      },
      "outputs": [
        {
          "output_type": "stream",
          "name": "stdout",
          "text": [
            "   Feature 1  Feature 2  Feature 3  Feature 4\n",
            "0   0.169447   0.211451   0.821881   0.511502\n",
            "1   0.637099   0.623625   0.692765   0.334040\n",
            "2   0.303179   0.445215   0.188919   0.015743\n",
            "3   0.762411   0.304100   0.866096   0.075413\n"
          ]
        }
      ],
      "source": [
        "import numpy as np\n",
        "import pandas as pd\n",
        "\n",
        "data = np.random.rand(4, 4)\n",
        "\n",
        "df = pd.DataFrame(data, columns=['Feature 1', 'Feature 2', 'Feature 3', 'Feature 4'])\n",
        "\n",
        "print(df)"
      ]
    },
    {
      "cell_type": "code",
      "source": [
        "new_column_names = {\n",
        "    'Feature 1': 'Random value 1',\n",
        "    'Feature 2': 'Random value 2',\n",
        "    'Feature 3': 'Random value 3',\n",
        "    'Feature 4': 'Random value 4'\n",
        "}\n",
        "df = df.rename(columns=new_column_names)\n",
        "\n",
        "\n",
        "print(df)"
      ],
      "metadata": {
        "colab": {
          "base_uri": "https://localhost:8080/"
        },
        "id": "TpLzfRmP09ad",
        "outputId": "57d14ca0-3f18-4aff-e91d-57dfcd64a9f3"
      },
      "execution_count": 2,
      "outputs": [
        {
          "output_type": "stream",
          "name": "stdout",
          "text": [
            "   Random value 1  Random value 2  Random value 3  Random value 4\n",
            "0        0.169447        0.211451        0.821881        0.511502\n",
            "1        0.637099        0.623625        0.692765        0.334040\n",
            "2        0.303179        0.445215        0.188919        0.015743\n",
            "3        0.762411        0.304100        0.866096        0.075413\n"
          ]
        }
      ]
    },
    {
      "cell_type": "code",
      "source": [
        "statistics = df.describe()\n",
        "\n",
        "print(statistics)"
      ],
      "metadata": {
        "colab": {
          "base_uri": "https://localhost:8080/"
        },
        "id": "HvOo-OgJ1Qli",
        "outputId": "5a334ad0-e781-472e-e4a3-aebec9a42a50"
      },
      "execution_count": 3,
      "outputs": [
        {
          "output_type": "stream",
          "name": "stdout",
          "text": [
            "       Random value 1  Random value 2  Random value 3  Random value 4\n",
            "count        4.000000        4.000000        4.000000        4.000000\n",
            "mean         0.468034        0.396098        0.642415        0.234175\n",
            "std          0.277832        0.179573        0.311146        0.230797\n",
            "min          0.169447        0.211451        0.188919        0.015743\n",
            "25%          0.269746        0.280938        0.566803        0.060496\n",
            "50%          0.470139        0.374658        0.757323        0.204727\n",
            "75%          0.668427        0.489818        0.832935        0.378405\n",
            "max          0.762411        0.623625        0.866096        0.511502\n"
          ]
        }
      ]
    },
    {
      "cell_type": "code",
      "source": [
        "null_values = df.isnull()\n",
        "print(\"Null Values:\")\n",
        "print(null_values)\n",
        "\n",
        "data_types = df.dtypes\n",
        "print(\"\\nData Types:\")\n",
        "print(data_types)"
      ],
      "metadata": {
        "colab": {
          "base_uri": "https://localhost:8080/"
        },
        "id": "WiNU36fA1ebd",
        "outputId": "fa11cc9f-63d7-4108-af10-280b38db3350"
      },
      "execution_count": 4,
      "outputs": [
        {
          "output_type": "stream",
          "name": "stdout",
          "text": [
            "Null Values:\n",
            "   Random value 1  Random value 2  Random value 3  Random value 4\n",
            "0           False           False           False           False\n",
            "1           False           False           False           False\n",
            "2           False           False           False           False\n",
            "3           False           False           False           False\n",
            "\n",
            "Data Types:\n",
            "Random value 1    float64\n",
            "Random value 2    float64\n",
            "Random value 3    float64\n",
            "Random value 4    float64\n",
            "dtype: object\n"
          ]
        }
      ]
    },
    {
      "cell_type": "code",
      "source": [
        "loc = df.loc[:, ['Random value 2', 'Random value 3']]\n",
        "print(\"Using .loc method:\")\n",
        "print(loc)\n",
        "\n",
        "iloc = df.iloc[:, [1, 2]]\n",
        "print(\"\\nUsing .iloc method:\")\n",
        "print(iloc)"
      ],
      "metadata": {
        "colab": {
          "base_uri": "https://localhost:8080/"
        },
        "id": "dHh1vMkd2JpT",
        "outputId": "ca4aa647-60f4-4df5-f0aa-5953d13bc610"
      },
      "execution_count": 5,
      "outputs": [
        {
          "output_type": "stream",
          "name": "stdout",
          "text": [
            "Using .loc method:\n",
            "   Random value 2  Random value 3\n",
            "0        0.211451        0.821881\n",
            "1        0.623625        0.692765\n",
            "2        0.445215        0.188919\n",
            "3        0.304100        0.866096\n",
            "\n",
            "Using .iloc method:\n",
            "   Random value 2  Random value 3\n",
            "0        0.211451        0.821881\n",
            "1        0.623625        0.692765\n",
            "2        0.445215        0.188919\n",
            "3        0.304100        0.866096\n"
          ]
        }
      ]
    }
  ]
}